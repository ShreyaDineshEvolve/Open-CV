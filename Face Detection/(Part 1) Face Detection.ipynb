{
 "cells": [
  {
   "cell_type": "code",
   "execution_count": null,
   "id": "332c10e5",
   "metadata": {},
   "outputs": [],
   "source": [
    "import cv2\n",
    "\n",
    "cam=cv2.VideoCapture(0)\n",
    "detector=cv2.CascadeClassifier(r\" \")# Enter haarcascade_frontalface_default.xml file in the space \n",
    "\n",
    "Id=input('Enter your ID: ')\n",
    "sampleNum=0\n",
    "while(True):\n",
    "    ret,img=cam.read()\n",
    "    gray=cv2.cvtColor(img,cv2.COLOR_BGR2GRAY)\n",
    "    faces=detector.detectMultiScale(gray,1.3,5)\n",
    "    for (x,y,wid,hig) in faces:\n",
    "        cv2.rectangle(img,(x,y),(x+wid,y+hig),(255,0,0),2)\n",
    "        \n",
    "        cv2.imwrite(r\" \"#Enter your Folder Name in the space with a '.' at the end\n",
    "                    \n",
    "                    +Id+'.'+ str(sampleNum) + \".jpg\", gray[y:y+hig,x:x+wid]) \n",
    "        sampleNum=sampleNum+1\n",
    "        cv2.imshow('frame',img)\n",
    "    if sampleNum>60: #Number of photos of your choice\n",
    "        break\n",
    "cam.release()\n",
    "cv2.destroyAllWindows()"
   ]
  },
  {
   "cell_type": "code",
   "execution_count": null,
   "id": "634f8a21",
   "metadata": {},
   "outputs": [],
   "source": [
    "#to get your folder with photos\n",
    "import os\n",
    "os.getcwd()"
   ]
  }
 ],
 "metadata": {
  "kernelspec": {
   "display_name": "Python 3 (ipykernel)",
   "language": "python",
   "name": "python3"
  },
  "language_info": {
   "codemirror_mode": {
    "name": "ipython",
    "version": 3
   },
   "file_extension": ".py",
   "mimetype": "text/x-python",
   "name": "python",
   "nbconvert_exporter": "python",
   "pygments_lexer": "ipython3",
   "version": "3.9.7"
  }
 },
 "nbformat": 4,
 "nbformat_minor": 5
}
