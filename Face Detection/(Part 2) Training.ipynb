{
 "cells": [
  {
   "cell_type": "code",
   "execution_count": null,
   "id": "50859410",
   "metadata": {},
   "outputs": [],
   "source": [
    "import cv2\n",
    "import os\n",
    "import numpy as np\n",
    "from PIL import Image #used to open and read images\n",
    "\n",
    "recognizer=cv2.face.LBPHFaceRecognizer_create()#our model #We are training this model\n",
    "\n",
    "path=r\" \" # Enter your folder name with photosin the space\n",
    "\n",
    "def getImagesWithID(path):#function to supply the path\n",
    "    imagePaths=[os.path.join(path,f) for f in os.listdir(path)]#f is all the directories inside dataset folder\n",
    "    #we are supplying all the location of all the images inside the dataset folder and storing in imagepaths\n",
    "    faces=[]\n",
    "    IDs=[]\n",
    "#iterations=number of files\n",
    "    for imagepath in imagePaths:#iteration through image path\n",
    "        faceImg=Image.open(imagepath).convert('L')\n",
    "        #open image and store that in a variable called faceimg\n",
    "                \n",
    "        faceNp=np.array(faceImg,'uint8')#save images as array and datatype is unsigned integer 8\n",
    "        #and convert that into numpy array\n",
    "        #next,we have to extract the ID\n",
    "        print(imagepath)\n",
    "        ID=int(os.path.split(imagepath)[-1].split(\".\")[1])\n",
    "        #dataset/User.1.3\n",
    "        faces.append(faceNp)#append numpy array to faces\n",
    "        IDs.append(ID)#append ID\n",
    "        cv2.imshow(\"training\",faceNp)\n",
    "        cv2.waitKey(10)\n",
    "    return np.array(IDs),faces\n",
    "\n",
    "Ids,faces=getImagesWithID(path)\n",
    "recognizer.train(faces,Ids)#train\n",
    "recognizer.save('trainingData.yml')\n",
    "cv2.destroyAllWindows()"
   ]
  },
  {
   "cell_type": "code",
   "execution_count": null,
   "id": "d1ee7dde",
   "metadata": {},
   "outputs": [],
   "source": [
    "#to get your folder with photos\n",
    "import os\n",
    "os.getcwd()"
   ]
  }
 ],
 "metadata": {
  "kernelspec": {
   "display_name": "Python 3 (ipykernel)",
   "language": "python",
   "name": "python3"
  },
  "language_info": {
   "codemirror_mode": {
    "name": "ipython",
    "version": 3
   },
   "file_extension": ".py",
   "mimetype": "text/x-python",
   "name": "python",
   "nbconvert_exporter": "python",
   "pygments_lexer": "ipython3",
   "version": "3.9.7"
  }
 },
 "nbformat": 4,
 "nbformat_minor": 5
}
